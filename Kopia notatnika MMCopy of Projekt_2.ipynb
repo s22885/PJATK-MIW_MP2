{
 "cells": [
  {
   "cell_type": "code",
   "execution_count": 16,
   "metadata": {
    "tags": []
   },
   "outputs": [],
   "source": [
    "from matplotlib.colors import ListedColormap\n",
    "import matplotlib.pyplot as plt\n",
    "import numpy as np\n",
    "from sklearn.model_selection import train_test_split\n",
    "from sklearn.metrics import confusion_matrix\n",
    "from sklearn import datasets\n",
    "\n",
    "from multi_logistic_regression_gd import MultiLogisticRegressorGD\n",
    "from multi_perceptron import MultiPerceptron"
   ]
  },
  {
   "cell_type": "markdown",
   "metadata": {
    "id": "qHiLnNMqkD_q"
   },
   "source": [
    "#Zadania klasyfikacji - perceptron, regresja logistyczna\n",
    "\n",
    "\n",
    "Proszę nie używać dostępnych w bibliotekach klasyfikatorów.\n"
   ]
  },
  {
   "cell_type": "markdown",
   "metadata": {
    "id": "QVVFcRumljah"
   },
   "source": [
    "## plot_decision_regions"
   ]
  },
  {
   "cell_type": "code",
   "execution_count": 2,
   "metadata": {
    "id": "G9M07Y_5lP9c",
    "tags": []
   },
   "outputs": [],
   "source": [
    "def plot_decision_regions(X, y, classifier, test_idx=None, resolution=0.02):\n",
    "\n",
    "    # konfiguruje generator znaczników i mapę kolorów\n",
    "    markers = ('s', 'x', 'o', '^', 'v')\n",
    "    colors = ('red', 'blue', 'lightgreen', 'gray', 'cyan')\n",
    "    cmap = ListedColormap(colors[:len(np.unique(y))])\n",
    "\n",
    "    # rysuje wykres powierzchni decyzyjnej\n",
    "    x1_min, x1_max = X[:, 0].min() - 1, X[:, 0].max() + 1\n",
    "    x2_min, x2_max = X[:, 1].min() - 1, X[:, 1].max() + 1\n",
    "    xx1, xx2 = np.meshgrid(np.arange(x1_min, x1_max, resolution), np.arange(x2_min, x2_max, resolution))\n",
    "    Z = classifier.predict(np.array([xx1.ravel(), xx2.ravel()]).T)\n",
    "    Z = Z.reshape(xx1.shape)\n",
    "    plt.contourf(xx1, xx2, Z, alpha=0.3, cmap=cmap)\n",
    "    plt.xlim(xx1.min(), xx1.max())\n",
    "    plt.ylim(xx2.min(), xx2.max())\n",
    "\n",
    "    # rysuje wykres wszystkich próbek\n",
    "    for idx, cl in enumerate(np.unique(y)):\n",
    "        plt.scatter(x=X[y == cl, 0], y=X[y == cl, 1], alpha=0.8, c=cmap(idx), marker=markers[idx], label=cl, edgecolor='black')\n"
   ]
  },
  {
   "cell_type": "markdown",
   "metadata": {
    "id": "Z6Mz60W_kHs9"
   },
   "source": [
    "##1. Używając perceptronów napisz klasyfikator wielo-klasowy (klasyfikujący 3 lub więcej klas). Dla każdej z klas użyj klasyfikatora binarnego. Przykład klasyfikatora binarnego znajduje się poniżej."
   ]
  },
  {
   "cell_type": "code",
   "execution_count": 9,
   "metadata": {
    "executionInfo": {
     "elapsed": 655,
     "status": "ok",
     "timestamp": 1680760761364,
     "user": {
      "displayName": "Konrad Klik",
      "userId": "07240657782699948271"
     },
     "user_tz": -120
    },
    "id": "RjZX4wn8ka9M",
    "tags": []
   },
   "outputs": [
    {
     "name": "stderr",
     "output_type": "stream",
     "text": [
      "C:\\Users\\klikk\\AppData\\Local\\Temp\\ipykernel_5720\\1723270556.py:20: UserWarning: *c* argument looks like a single numeric RGB or RGBA sequence, which should be avoided as value-mapping will have precedence in case its length matches with *x* & *y*.  Please use the *color* keyword-argument or provide a 2D array with a single row if you intend to specify the same RGB or RGBA value for all points.\n",
      "  plt.scatter(x=X[y == cl, 0], y=X[y == cl, 1], alpha=0.8, c=cmap(idx), marker=markers[idx], label=cl, edgecolor='black')\n",
      "C:\\Users\\klikk\\AppData\\Local\\Temp\\ipykernel_5720\\1723270556.py:20: UserWarning: You passed a edgecolor/edgecolors ('black') for an unfilled marker ('x').  Matplotlib is ignoring the edgecolor in favor of the facecolor.  This behavior may change in the future.\n",
      "  plt.scatter(x=X[y == cl, 0], y=X[y == cl, 1], alpha=0.8, c=cmap(idx), marker=markers[idx], label=cl, edgecolor='black')\n"
     ]
    },
    {
     "data": {
      "image/png": "[encoded data removed]",
      "text/plain": [
       "<Figure size 640x480 with 1 Axes>"
      ]
     },
     "metadata": {},
     "output_type": "display_data"
    }
   ],
   "source": [
    "iris_ds = datasets.load_iris()\n",
    "X = iris_ds.data[:, [2, 3]]\n",
    "y = iris_ds.target\n",
    "X_train, X_test, y_train, y_test = train_test_split(X, y, test_size=0.3, random_state=1, stratify=y)\n",
    "model = MultiPerceptron(eta=0.01,n_iter=400)\n",
    "model.fit(X_train,y_train)\n",
    "\n",
    "plot_decision_regions(X=X_test, y=y_test, classifier=model)\n",
    "plt.xlabel(r'$x_1$')\n",
    "plt.ylabel(r'$x_2$')\n",
    "plt.legend(loc='upper left')\n",
    "plt.show()"
   ]
  },
  {
   "cell_type": "code",
   "execution_count": null,
   "metadata": {
    "id": "rdEL6XJQYSWh"
   },
   "outputs": [],
   "source": []
  },
  {
   "cell_type": "markdown",
   "metadata": {
    "id": "da76RT4AkMY4"
   },
   "source": [
    "##2. Napisz klasyfikator wielo-klasowy przy użyciu regresji logistycznej. Dla każdej z klas użyj klasyfikatora binarnego. Przykład regresji logistycznej dla przypadku dwuklasowego znajduje się poniżej."
   ]
  },
  {
   "cell_type": "code",
   "execution_count": null,
   "metadata": {
    "id": "t1xDlUgnlCxL"
   },
   "outputs": [],
   "source": [
    "iris_ds = datasets.load_iris()\n",
    "X = iris_ds.data[:, [2, 3]]\n",
    "y = iris_ds.target\n",
    "X_train, X_test, y_train, y_test = train_test_split(X, y, test_size=0.3, random_state=1, stratify=y)\n",
    "model = MultiPerceptron(eta=0.01,n_iter=400)\n",
    "model.fit(X_train,y_train)\n",
    "\n",
    "plot_decision_regions(X=X_test, y=y_test, classifier=model)\n",
    "plt.xlabel(r'$x_1$')\n",
    "plt.ylabel(r'$x_2$')\n",
    "plt.legend(loc='upper left')\n",
    "plt.show()"
   ]
  },
  {
   "cell_type": "code",
   "execution_count": null,
   "metadata": {
    "id": "4wdMDpCx6q06"
   },
   "outputs": [],
   "source": []
  },
  {
   "cell_type": "code",
   "execution_count": 22,
   "metadata": {
    "colab": {
     "base_uri": "https://localhost:8080/",
     "height": 574
    },
    "executionInfo": {
     "elapsed": 811,
     "status": "ok",
     "timestamp": 1680697962754,
     "user": {
      "displayName": "Konrad Klik",
      "userId": "07240657782699948271"
     },
     "user_tz": -120
    },
    "id": "NGTTBL4QWl0L",
    "outputId": "4e7abb6e-5e5c-4f33-9949-54fa45e94b40",
    "tags": []
   },
   "outputs": [
    {
     "name": "stderr",
     "output_type": "stream",
     "text": [
      "C:\\Users\\klikk\\AppData\\Local\\Temp\\ipykernel_5720\\1723270556.py:20: UserWarning: *c* argument looks like a single numeric RGB or RGBA sequence, which should be avoided as value-mapping will have precedence in case its length matches with *x* & *y*.  Please use the *color* keyword-argument or provide a 2D array with a single row if you intend to specify the same RGB or RGBA value for all points.\n",
      "  plt.scatter(x=X[y == cl, 0], y=X[y == cl, 1], alpha=0.8, c=cmap(idx), marker=markers[idx], label=cl, edgecolor='black')\n",
      "C:\\Users\\klikk\\AppData\\Local\\Temp\\ipykernel_5720\\1723270556.py:20: UserWarning: You passed a edgecolor/edgecolors ('black') for an unfilled marker ('x').  Matplotlib is ignoring the edgecolor in favor of the facecolor.  This behavior may change in the future.\n",
      "  plt.scatter(x=X[y == cl, 0], y=X[y == cl, 1], alpha=0.8, c=cmap(idx), marker=markers[idx], label=cl, edgecolor='black')\n"
     ]
    },
    {
     "data": {
      "image/png": "[encoded data removed]",
      "text/plain": [
       "<Figure size 640x480 with 1 Axes>"
      ]
     },
     "metadata": {},
     "output_type": "display_data"
    }
   ],
   "source": [
    "\n",
    "iris = datasets.load_iris()\n",
    "X = iris.data[:, [2, 3]]\n",
    "y = iris.target\n",
    "X_train, X_test, y_train, y_test = train_test_split(X, y, test_size=0.3, random_state=1, stratify=y)\n",
    "\n",
    "#w regresji logarytmicznej wyjście przyjmuje wartości 0 lub 1 (prawdopodobieństwa)\n",
    "X_train_01_subset = X_train#[(y_train == 0) | (y_train == 1)]\n",
    "y_train_01_subset = y_train#[(y_train == 0) | (y_train == 1)]\n",
    "lrgd = MultiLogisticRegressorGD(eta=0.001, n_iter=1000, random_state=1)\n",
    "lrgd.fit(X_train_01_subset, y_train_01_subset)\n",
    "plot_decision_regions(X=X_train_01_subset, y=y_train_01_subset, classifier=lrgd)\n",
    "plt.xlabel(r'$x_1$')\n",
    "plt.ylabel(r'$x_2$')\n",
    "plt.legend(loc='upper left')\n",
    "plt.show()\n"
   ]
  },
  {
   "cell_type": "markdown",
   "metadata": {
    "id": "uGyNbcE1kRbA"
   },
   "source": [
    "##3. Dla regresji logistycznej napisz metodę wypisującą prawdopodobieństwo przynależności próbki (próbek) do danej klasy (klas)."
   ]
  },
  {
   "cell_type": "code",
   "execution_count": 23,
   "metadata": {
    "id": "htt4Kht-i2pO",
    "tags": []
   },
   "outputs": [],
   "source": [
    "preds = lrgd.predict(X_test)\n",
    "cfx = confusion_matrix(y_test,preds)\n",
    "preds_probs = lrgd.predict_proba(X_test)"
   ]
  },
  {
   "cell_type": "code",
   "execution_count": 24,
   "metadata": {
    "tags": []
   },
   "outputs": [
    {
     "data": {
      "text/plain": [
       "array([[15,  0,  0],\n",
       "       [ 0, 11,  4],\n",
       "       [ 0,  0, 15]], dtype=int64)"
      ]
     },
     "execution_count": 24,
     "metadata": {},
     "output_type": "execute_result"
    }
   ],
   "source": [
    "cfx"
   ]
  },
  {
   "cell_type": "code",
   "execution_count": 25,
   "metadata": {
    "tags": []
   },
   "outputs": [
    {
     "data": {
      "text/plain": [
       "array([[7.44145364e-04, 2.94991106e-01, 8.77489386e-01],\n",
       "       [8.43179740e-01, 2.36869125e-01, 2.17588610e-02],\n",
       "       [9.08040520e-01, 2.21999917e-01, 1.59028311e-02],\n",
       "       [8.53929167e-03, 3.11925092e-01, 5.46118957e-01],\n",
       "       [1.80424896e-02, 3.72008683e-01, 3.41824455e-01],\n",
       "       [3.71218958e-02, 3.37886796e-01, 2.71019864e-01],\n",
       "       [1.23587660e-03, 4.85723764e-01, 6.57544419e-01],\n",
       "       [1.28915928e-02, 3.61361770e-01, 4.09687529e-01],\n",
       "       [1.95248371e-03, 3.79210246e-01, 7.01313750e-01],\n",
       "       [9.01591127e-01, 1.93117960e-01, 2.05348009e-02],\n",
       "       [8.75288993e-01, 2.14182010e-01, 2.11381637e-02],\n",
       "       [4.08801264e-03, 3.44790475e-01, 6.26979782e-01],\n",
       "       [9.24007767e-01, 2.41731200e-01, 1.21241588e-02],\n",
       "       [1.54646677e-01, 3.11067810e-01, 1.28044984e-01],\n",
       "       [9.24007767e-01, 2.41731200e-01, 1.21241588e-02],\n",
       "       [1.06681322e-02, 4.34465536e-01, 3.55253902e-01],\n",
       "       [1.10940989e-03, 2.56120484e-01, 8.72639879e-01],\n",
       "       [1.28915928e-02, 3.61361770e-01, 4.09687529e-01],\n",
       "       [2.51989132e-02, 3.82781271e-01, 2.79873038e-01],\n",
       "       [1.81182093e-03, 3.38781644e-01, 7.52856130e-01],\n",
       "       [5.79699486e-04, 4.19543909e-01, 8.16460166e-01],\n",
       "       [9.37393716e-01, 2.62624204e-01, 9.23491146e-03],\n",
       "       [1.80424896e-02, 3.72008683e-01, 3.41824455e-01],\n",
       "       [2.69973921e-03, 2.96568091e-01, 7.44509544e-01],\n",
       "       [2.86872706e-02, 3.67548475e-01, 2.76902402e-01],\n",
       "       [8.05936874e-03, 3.65790324e-01, 4.84866491e-01],\n",
       "       [1.81376792e-01, 2.49564584e-01, 1.56093092e-01],\n",
       "       [3.29192301e-04, 2.89466730e-01, 9.28474509e-01],\n",
       "       [8.02028435e-01, 1.88989968e-01, 3.66055235e-02],\n",
       "       [2.36376204e-03, 3.10302469e-01, 7.47312190e-01],\n",
       "       [9.03052771e-01, 2.66347368e-01, 1.24835460e-02],\n",
       "       [9.24007767e-01, 2.41731200e-01, 1.21241588e-02],\n",
       "       [6.71525557e-02, 4.15758103e-01, 1.40053850e-01],\n",
       "       [3.71218958e-02, 3.37886796e-01, 2.71019864e-01],\n",
       "       [6.35205869e-04, 5.66558300e-01, 6.73994680e-01],\n",
       "       [9.87377212e-04, 3.57874708e-01, 8.07429881e-01],\n",
       "       [9.37393716e-01, 2.62624204e-01, 9.23491146e-03],\n",
       "       [9.03052771e-01, 2.66347368e-01, 1.24835460e-02],\n",
       "       [9.24007767e-01, 2.41731200e-01, 1.21241588e-02],\n",
       "       [1.21700656e-02, 4.18570779e-01, 3.51874112e-01],\n",
       "       [4.99081240e-04, 3.37087756e-01, 8.82179169e-01],\n",
       "       [3.13472214e-03, 3.74715215e-01, 6.33870351e-01],\n",
       "       [1.13016330e-02, 3.76490797e-01, 4.13268541e-01],\n",
       "       [9.14107508e-01, 2.53842455e-01, 1.23025565e-02],\n",
       "       [9.29103570e-01, 2.75402053e-01, 9.37119938e-03]])"
      ]
     },
     "execution_count": 25,
     "metadata": {},
     "output_type": "execute_result"
    }
   ],
   "source": [
    "preds_probs"
   ]
  },
  {
   "cell_type": "code",
   "execution_count": null,
   "metadata": {},
   "outputs": [],
   "source": []
  }
 ],
 "metadata": {
  "colab": {
   "provenance": [
    {
     "file_id": "1dT8qGchXVrWebEzXTLZMEDWRpum-u99y",
     "timestamp": 1680185231287
    },
    {
     "file_id": "1auEetjhTnpNyGWLadB4sDjBHFdRB2aic",
     "timestamp": 1680130013511
    }
   ]
  },
  "kernelspec": {
   "display_name": "Python 3 (ipykernel)",
   "language": "python",
   "name": "python3"
  },
  "language_info": {
   "codemirror_mode": {
    "name": "ipython",
    "version": 3
   },
   "file_extension": ".py",
   "mimetype": "text/x-python",
   "name": "python",
   "nbconvert_exporter": "python",
   "pygments_lexer": "ipython3",
   "version": "3.10.10"
  }
 },
 "nbformat": 4,
 "nbformat_minor": 4
}
